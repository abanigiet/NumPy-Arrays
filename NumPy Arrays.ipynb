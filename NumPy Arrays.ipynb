{
 "cells": [
  {
   "cell_type": "markdown",
   "id": "46f2334b",
   "metadata": {},
   "source": [
    "# Experiment 2: NumPy Arrays"
   ]
  },
  {
   "cell_type": "markdown",
   "id": "1b481b41",
   "metadata": {},
   "source": [
    "**Task 1: Creating and Manipulating NumPy Arrays**\n",
    "\n",
    "Write a Python program to create a NumPy array and perform basic operations such as:\n",
    "\n",
    "1. Indexing\n",
    "2. Slicing\n",
    "3. Reshaping"
   ]
  },
  {
   "cell_type": "code",
   "execution_count": 1,
   "id": "08fa63c4",
   "metadata": {},
   "outputs": [],
   "source": [
    "# IMPORT the NUMPY LIBRARY\n",
    "\n",
    "import numpy as np"
   ]
  },
  {
   "cell_type": "code",
   "execution_count": 2,
   "id": "24212095",
   "metadata": {},
   "outputs": [
    {
     "name": "stdout",
     "output_type": "stream",
     "text": [
      "Original Array: [ 1  2  3  4  5  6  7  8  9 10]\n"
     ]
    }
   ],
   "source": [
    "# Create a NumPy array\n",
    "array = np.array([1, 2, 3, 4, 5, 6, 7, 8, 9, 10])\n",
    "print(\"Original Array:\", array)"
   ]
  },
  {
   "cell_type": "code",
   "execution_count": 3,
   "id": "d9880023",
   "metadata": {},
   "outputs": [
    {
     "name": "stdout",
     "output_type": "stream",
     "text": [
      "First Element: 1\n"
     ]
    }
   ],
   "source": [
    "# Indexing: Access the first element\n",
    "first_element = array[0]\n",
    "print(\"First Element:\", first_element)"
   ]
  },
  {
   "cell_type": "code",
   "execution_count": 4,
   "id": "27b51a1a",
   "metadata": {},
   "outputs": [
    {
     "name": "stdout",
     "output_type": "stream",
     "text": [
      "Sliced Array (index 2 to 5): [3 4 5 6]\n"
     ]
    }
   ],
   "source": [
    "# Slicing: Access elements from index 2 to 5\n",
    "sliced_array = array[2:6]\n",
    "print(\"Sliced Array (index 2 to 5):\", sliced_array)"
   ]
  },
  {
   "cell_type": "code",
   "execution_count": 5,
   "id": "517a82c8",
   "metadata": {},
   "outputs": [
    {
     "name": "stdout",
     "output_type": "stream",
     "text": [
      "Reshaped Array (2x5):\n",
      " [[ 1  2  3  4  5]\n",
      " [ 6  7  8  9 10]]\n"
     ]
    }
   ],
   "source": [
    "# Reshaping: Reshape the array to 2x5\n",
    "reshaped_array = array.reshape(2, 5)\n",
    "print(\"Reshaped Array (2x5):\\n\", reshaped_array)"
   ]
  },
  {
   "cell_type": "markdown",
   "id": "c0458da1",
   "metadata": {},
   "source": [
    "---"
   ]
  },
  {
   "cell_type": "markdown",
   "id": "205876ea",
   "metadata": {},
   "source": [
    "**Task 2: Array Operations**\n",
    "    \n",
    "Write a Python program to perform various arithmetic operations like:\n",
    "\n",
    "1. Addition\n",
    "2. Subtraction\n",
    "3. Multiplication\n",
    "4. Division"
   ]
  },
  {
   "cell_type": "code",
   "execution_count": 9,
   "id": "c2e80a41",
   "metadata": {},
   "outputs": [
    {
     "name": "stdout",
     "output_type": "stream",
     "text": [
      "array1 = [1 2 3 4 5]\n",
      "array2 = [5 4 3 2 1]\n"
     ]
    }
   ],
   "source": [
    "# Create two NumPy arrays\n",
    "array1 = np.array([1, 2, 3, 4, 5])\n",
    "array2 = np.array([5, 4, 3, 2, 1])\n",
    "print(\"array1 =\", array1)\n",
    "print(\"array2 =\", array2)"
   ]
  },
  {
   "cell_type": "code",
   "execution_count": 10,
   "id": "99614993",
   "metadata": {},
   "outputs": [
    {
     "name": "stdout",
     "output_type": "stream",
     "text": [
      "Sum of Arrays: [6 6 6 6 6]\n"
     ]
    }
   ],
   "source": [
    "# Addition\n",
    "sum_array = array1 + array2\n",
    "print(\"Sum of Arrays:\", sum_array)"
   ]
  },
  {
   "cell_type": "code",
   "execution_count": 11,
   "id": "e8c6100f",
   "metadata": {},
   "outputs": [
    {
     "name": "stdout",
     "output_type": "stream",
     "text": [
      "Difference of Arrays: [-4 -2  0  2  4]\n"
     ]
    }
   ],
   "source": [
    "# Subtraction\n",
    "diff_array = array1 - array2\n",
    "print(\"Difference of Arrays:\", diff_array)"
   ]
  },
  {
   "cell_type": "code",
   "execution_count": 12,
   "id": "8ceaa495",
   "metadata": {},
   "outputs": [
    {
     "name": "stdout",
     "output_type": "stream",
     "text": [
      "Product of Arrays: [5 8 9 8 5]\n"
     ]
    }
   ],
   "source": [
    "# Multiplication\n",
    "prod_array = array1 * array2\n",
    "print(\"Product of Arrays:\", prod_array)"
   ]
  },
  {
   "cell_type": "code",
   "execution_count": 13,
   "id": "698c5029",
   "metadata": {},
   "outputs": [
    {
     "name": "stdout",
     "output_type": "stream",
     "text": [
      "Division of Arrays: [0.2 0.5 1.  2.  5. ]\n"
     ]
    }
   ],
   "source": [
    "# Division\n",
    "div_array = array1 / array2\n",
    "print(\"Division of Arrays:\", div_array)"
   ]
  },
  {
   "cell_type": "markdown",
   "id": "32f43285",
   "metadata": {},
   "source": [
    "---"
   ]
  },
  {
   "cell_type": "markdown",
   "id": "02656190",
   "metadata": {},
   "source": [
    "**Task 3: Universal Functions (ufuncs)**\n",
    "\n",
    "Write a Python program to demonstrate the use of universal functions such as:\n",
    "\n",
    "1. Square root\n",
    "2. Exponential\n",
    "3. Trigonometric\n",
    "4. Logarithmic\n"
   ]
  },
  {
   "cell_type": "code",
   "execution_count": 14,
   "id": "4e255365",
   "metadata": {},
   "outputs": [
    {
     "name": "stdout",
     "output_type": "stream",
     "text": [
      "[ 1  4  9 16 25]\n"
     ]
    }
   ],
   "source": [
    "# Create a NumPy array\n",
    "array = np.array([1, 4, 9, 16, 25])\n",
    "print(array)"
   ]
  },
  {
   "cell_type": "code",
   "execution_count": 15,
   "id": "e38277d7",
   "metadata": {},
   "outputs": [
    {
     "name": "stdout",
     "output_type": "stream",
     "text": [
      "Square Root of Array: [1. 2. 3. 4. 5.]\n"
     ]
    }
   ],
   "source": [
    "# Square root\n",
    "sqrt_array = np.sqrt(array)\n",
    "print(\"Square Root of Array:\", sqrt_array)"
   ]
  },
  {
   "cell_type": "code",
   "execution_count": 16,
   "id": "a117c7b2",
   "metadata": {},
   "outputs": [
    {
     "name": "stdout",
     "output_type": "stream",
     "text": [
      "Exponential of Array: [2.71828183e+00 5.45981500e+01 8.10308393e+03 8.88611052e+06\n",
      " 7.20048993e+10]\n"
     ]
    }
   ],
   "source": [
    "# Exponential\n",
    "exp_array = np.exp(array)\n",
    "print(\"Exponential of Array:\", exp_array)"
   ]
  },
  {
   "cell_type": "code",
   "execution_count": 17,
   "id": "b531370c",
   "metadata": {},
   "outputs": [
    {
     "name": "stdout",
     "output_type": "stream",
     "text": [
      "Sine of Array: [ 0.84147098 -0.7568025   0.41211849 -0.28790332 -0.13235175]\n"
     ]
    }
   ],
   "source": [
    "# Sine\n",
    "sin_array = np.sin(array)\n",
    "print(\"Sine of Array:\", sin_array)"
   ]
  },
  {
   "cell_type": "code",
   "execution_count": 18,
   "id": "659d6c12",
   "metadata": {},
   "outputs": [
    {
     "name": "stdout",
     "output_type": "stream",
     "text": [
      "Logarithm of Array: [0.         1.38629436 2.19722458 2.77258872 3.21887582]\n"
     ]
    }
   ],
   "source": [
    "# Logarithm\n",
    "log_array = np.log(array)\n",
    "print(\"Logarithm of Array:\", log_array)"
   ]
  },
  {
   "cell_type": "markdown",
   "id": "3de6382b",
   "metadata": {},
   "source": [
    "---"
   ]
  },
  {
   "cell_type": "markdown",
   "id": "68b319de",
   "metadata": {},
   "source": [
    "**Task 4: Statistical Operations**\n",
    "\n",
    "Write a Python program to perform statistical operations such as:\n",
    "\n",
    "1. Mean\n",
    "2. Median\n",
    "3. Standard Deviation\n",
    "4. Sum\n"
   ]
  },
  {
   "cell_type": "code",
   "execution_count": 19,
   "id": "468e2b6c",
   "metadata": {},
   "outputs": [
    {
     "name": "stdout",
     "output_type": "stream",
     "text": [
      "[ 1  2  3  4  5  6  7  8  9 10]\n"
     ]
    }
   ],
   "source": [
    "# Create a NumPy array\n",
    "array = np.array([1, 2, 3, 4, 5, 6, 7, 8, 9, 10])\n",
    "print(array)"
   ]
  },
  {
   "cell_type": "code",
   "execution_count": 20,
   "id": "ac7b8ca9",
   "metadata": {},
   "outputs": [
    {
     "name": "stdout",
     "output_type": "stream",
     "text": [
      "Mean: 5.5\n"
     ]
    }
   ],
   "source": [
    "# Mean\n",
    "mean_value = np.mean(array)\n",
    "print(\"Mean:\", mean_value)"
   ]
  },
  {
   "cell_type": "code",
   "execution_count": 21,
   "id": "b6149738",
   "metadata": {},
   "outputs": [
    {
     "name": "stdout",
     "output_type": "stream",
     "text": [
      "Median: 5.5\n"
     ]
    }
   ],
   "source": [
    "# Median\n",
    "median_value = np.median(array)\n",
    "print(\"Median:\", median_value)"
   ]
  },
  {
   "cell_type": "code",
   "execution_count": 22,
   "id": "9209e5f6",
   "metadata": {},
   "outputs": [
    {
     "name": "stdout",
     "output_type": "stream",
     "text": [
      "Standard Deviation: 2.8722813232690143\n"
     ]
    }
   ],
   "source": [
    "# Standard Deviation\n",
    "std_dev = np.std(array)\n",
    "print(\"Standard Deviation:\", std_dev)"
   ]
  },
  {
   "cell_type": "code",
   "execution_count": 23,
   "id": "39bfb6fd",
   "metadata": {},
   "outputs": [
    {
     "name": "stdout",
     "output_type": "stream",
     "text": [
      "Sum: 55\n"
     ]
    }
   ],
   "source": [
    "# Sum\n",
    "sum_value = np.sum(array)\n",
    "print(\"Sum:\", sum_value)"
   ]
  },
  {
   "cell_type": "markdown",
   "id": "dec548d4",
   "metadata": {},
   "source": [
    "---"
   ]
  },
  {
   "cell_type": "markdown",
   "id": "2926212a",
   "metadata": {},
   "source": [
    "**Task 5: Broadcasting and Vectorized Operations**\n",
    "\n",
    "Write a Python program to demonstrate broadcasting and vectorized operations in NumPy.\n"
   ]
  },
  {
   "cell_type": "code",
   "execution_count": 24,
   "id": "1650aa59",
   "metadata": {},
   "outputs": [
    {
     "name": "stdout",
     "output_type": "stream",
     "text": [
      "[1 2 3 4 5]\n"
     ]
    }
   ],
   "source": [
    "# Create a NumPy array\n",
    "array = np.array([1, 2, 3, 4, 5])\n",
    "print(array)"
   ]
  },
  {
   "cell_type": "code",
   "execution_count": 25,
   "id": "275035e5",
   "metadata": {},
   "outputs": [
    {
     "name": "stdout",
     "output_type": "stream",
     "text": [
      "Broadcasted Array (Add 10): [11 12 13 14 15]\n"
     ]
    }
   ],
   "source": [
    "# Broadcasting: Add a scalar to each element\n",
    "broadcasted_array = array + 10\n",
    "print(\"Broadcasted Array (Add 10):\", broadcasted_array)"
   ]
  },
  {
   "cell_type": "code",
   "execution_count": 26,
   "id": "71cd9813",
   "metadata": {},
   "outputs": [
    {
     "name": "stdout",
     "output_type": "stream",
     "text": [
      "Vectorized Array (Multiply by 2): [ 2  4  6  8 10]\n"
     ]
    }
   ],
   "source": [
    "# Vectorized Operation: Element-wise multiplication\n",
    "vectorized_array = array * 2\n",
    "print(\"Vectorized Array (Multiply by 2):\", vectorized_array)"
   ]
  },
  {
   "cell_type": "code",
   "execution_count": null,
   "id": "17bf86f3",
   "metadata": {},
   "outputs": [],
   "source": []
  }
 ],
 "metadata": {
  "kernelspec": {
   "display_name": "Python 3",
   "language": "python",
   "name": "python3"
  },
  "language_info": {
   "codemirror_mode": {
    "name": "ipython",
    "version": 3
   },
   "file_extension": ".py",
   "mimetype": "text/x-python",
   "name": "python",
   "nbconvert_exporter": "python",
   "pygments_lexer": "ipython3",
   "version": "3.8.8"
  }
 },
 "nbformat": 4,
 "nbformat_minor": 5
}
